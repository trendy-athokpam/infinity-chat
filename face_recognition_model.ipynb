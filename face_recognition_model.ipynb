{
  "nbformat": 4,
  "nbformat_minor": 0,
  "metadata": {
    "colab": {
      "name": "date5keras.ipynb",
      "provenance": [],
      "collapsed_sections": [],
      "mount_file_id": "1-J4f_7C1rCF72b3y7W7ZHmLP3JWSN_fP",
      "authorship_tag": "ABX9TyN5voMOg6vynFuOjiVP/VMP",
      "include_colab_link": true
    },
    "kernelspec": {
      "name": "python3",
      "display_name": "Python 3"
    },
    "language_info": {
      "name": "python"
    }
  },
  "cells": [
    {
      "cell_type": "markdown",
      "metadata": {
        "id": "view-in-github",
        "colab_type": "text"
      },
      "source": [
        "<a href=\"https://colab.research.google.com/github/trendy-athokpam/infinity-chat/blob/main/face_recognition_model.ipynb\" target=\"_parent\"><img src=\"https://colab.research.google.com/assets/colab-badge.svg\" alt=\"Open In Colab\"/></a>"
      ]
    },
    {
      "cell_type": "code",
      "source": [
        "import numpy as np\n",
        "from keras.preprocessing import image\n",
        "from keras.preprocessing.image import ImageDataGenerator\n",
        "from keras.models import Sequential\n",
        "from keras.layers import Convolution2D\n",
        "from keras.layers import MaxPool2D\n",
        "from keras.layers import Flatten\n",
        "from keras.layers import Dense"
      ],
      "metadata": {
        "id": "CgsBngh_n_nn"
      },
      "execution_count": 101,
      "outputs": []
    },
    {
      "cell_type": "code",
      "execution_count": 102,
      "metadata": {
        "id": "B49XM_nWVSSk"
      },
      "outputs": [],
      "source": [
        "TrainingImagePath='/content/drive/MyDrive/Face Images/Final Training Images'"
      ]
    },
    {
      "cell_type": "code",
      "source": [
        "#TestingImagePath='/content/drive/MyDrive/Datasets/Test'"
      ],
      "metadata": {
        "id": "QxS4fKMqZQPd"
      },
      "execution_count": 103,
      "outputs": []
    },
    {
      "cell_type": "code",
      "source": [
        "train_datagen = ImageDataGenerator(\n",
        "        shear_range=0.1,\n",
        "        zoom_range=0.1,\n",
        "        horizontal_flip=True)"
      ],
      "metadata": {
        "id": "iY51WkZaWWAV"
      },
      "execution_count": 104,
      "outputs": []
    },
    {
      "cell_type": "code",
      "source": [
        "test_datagen = ImageDataGenerator()"
      ],
      "metadata": {
        "id": "qZaOy2bNWY-9"
      },
      "execution_count": 105,
      "outputs": []
    },
    {
      "cell_type": "code",
      "source": [
        "training_set = train_datagen.flow_from_directory(\n",
        "        TrainingImagePath,\n",
        "        target_size=(64, 64),\n",
        "        batch_size=32,\n",
        "        class_mode='categorical')"
      ],
      "metadata": {
        "colab": {
          "base_uri": "https://localhost:8080/"
        },
        "id": "WZgNZw-pWbHt",
        "outputId": "98d9343d-4494-4410-e339-c267b6a66fa6"
      },
      "execution_count": 106,
      "outputs": [
        {
          "output_type": "stream",
          "name": "stdout",
          "text": [
            "Found 244 images belonging to 16 classes.\n"
          ]
        }
      ]
    },
    {
      "cell_type": "code",
      "source": [
        "test_set = test_datagen.flow_from_directory(\n",
        "        TrainingImagePath,\n",
        "        target_size=(64, 64),\n",
        "        batch_size=32,\n",
        "        class_mode='categorical')"
      ],
      "metadata": {
        "colab": {
          "base_uri": "https://localhost:8080/"
        },
        "id": "lIiIRtb6WdD1",
        "outputId": "6dad57eb-49ff-4f82-b7c2-4f607bb7ce3e"
      },
      "execution_count": 107,
      "outputs": [
        {
          "output_type": "stream",
          "name": "stdout",
          "text": [
            "Found 244 images belonging to 16 classes.\n"
          ]
        }
      ]
    },
    {
      "cell_type": "code",
      "source": [
        "test_set.class_indices"
      ],
      "metadata": {
        "colab": {
          "base_uri": "https://localhost:8080/"
        },
        "id": "AeFyMsSMXLC9",
        "outputId": "8d6beb5b-84dd-4598-8794-7cdf548dd84e"
      },
      "execution_count": 108,
      "outputs": [
        {
          "output_type": "execute_result",
          "data": {
            "text/plain": [
              "{'face1': 0,\n",
              " 'face10': 1,\n",
              " 'face11': 2,\n",
              " 'face12': 3,\n",
              " 'face13': 4,\n",
              " 'face14': 5,\n",
              " 'face15': 6,\n",
              " 'face16': 7,\n",
              " 'face2': 8,\n",
              " 'face3': 9,\n",
              " 'face4': 10,\n",
              " 'face5': 11,\n",
              " 'face6': 12,\n",
              " 'face7': 13,\n",
              " 'face8': 14,\n",
              " 'face9': 15}"
            ]
          },
          "metadata": {},
          "execution_count": 108
        }
      ]
    },
    {
      "cell_type": "code",
      "source": [
        "TrainClasses=training_set.class_indices"
      ],
      "metadata": {
        "id": "SzZjBfOyXVkY"
      },
      "execution_count": 109,
      "outputs": []
    },
    {
      "cell_type": "code",
      "source": [
        "ResultMap={}\n",
        "for faceValue,faceName in zip(TrainClasses.values(),TrainClasses.keys()):\n",
        "    ResultMap[faceValue]=faceName"
      ],
      "metadata": {
        "id": "RQQzyZNvXYdl"
      },
      "execution_count": 110,
      "outputs": []
    },
    {
      "cell_type": "code",
      "source": [
        "import pickle\n",
        "with open(\"ResultsMap.pkl\", 'wb') as fileWriteStream:\n",
        "    pickle.dump(ResultMap, fileWriteStream)"
      ],
      "metadata": {
        "id": "halwHeNcXcPd"
      },
      "execution_count": 111,
      "outputs": []
    },
    {
      "cell_type": "code",
      "source": [
        "print(\"Mapping of Face and its ID\",ResultMap)"
      ],
      "metadata": {
        "colab": {
          "base_uri": "https://localhost:8080/"
        },
        "id": "2IvCzdZDXgLt",
        "outputId": "77b14bfa-5616-41ad-fc54-f961d19cd003"
      },
      "execution_count": 112,
      "outputs": [
        {
          "output_type": "stream",
          "name": "stdout",
          "text": [
            "Mapping of Face and its ID {0: 'face1', 1: 'face10', 2: 'face11', 3: 'face12', 4: 'face13', 5: 'face14', 6: 'face15', 7: 'face16', 8: 'face2', 9: 'face3', 10: 'face4', 11: 'face5', 12: 'face6', 13: 'face7', 14: 'face8', 15: 'face9'}\n"
          ]
        }
      ]
    },
    {
      "cell_type": "code",
      "source": [
        "OutputNeurons=len(ResultMap)\n",
        "print('\\n The Number of output neurons: ', OutputNeurons)"
      ],
      "metadata": {
        "colab": {
          "base_uri": "https://localhost:8080/"
        },
        "id": "xAaag1JjXlpl",
        "outputId": "03d2ae0f-97e9-4a3b-c60f-3377b32459ef"
      },
      "execution_count": 113,
      "outputs": [
        {
          "output_type": "stream",
          "name": "stdout",
          "text": [
            "\n",
            " The Number of output neurons:  16\n"
          ]
        }
      ]
    },
    {
      "cell_type": "code",
      "source": [
        "classifier= Sequential()\n",
        "classifier.add(Convolution2D(32, kernel_size=(5, 5), strides=(1, 1), input_shape=(64,64,3), activation='relu'))\n",
        "classifier.add(MaxPool2D(pool_size=(2,2)))\n",
        "classifier.add(Convolution2D(64, kernel_size=(5, 5), strides=(1, 1), activation='relu'))\n",
        "classifier.add(MaxPool2D(pool_size=(2,2)))\n",
        "\n",
        "'''# STEP--3 FLattening'''\n",
        "classifier.add(Flatten())\n",
        "\n",
        "'''# STEP--4 Fully Connected Neural Network'''\n",
        "classifier.add(Dense(64, activation='relu'))\n",
        "\n",
        "classifier.add(Dense(OutputNeurons, activation='softmax'))"
      ],
      "metadata": {
        "id": "cu8FjzvmXzwd"
      },
      "execution_count": 114,
      "outputs": []
    },
    {
      "cell_type": "code",
      "source": [
        "classifier.compile(loss='categorical_crossentropy', optimizer = 'adam', metrics=[\"accuracy\"])"
      ],
      "metadata": {
        "id": "jg3s-e1XYIHs"
      },
      "execution_count": 117,
      "outputs": []
    },
    {
      "cell_type": "code",
      "source": [
        "import time\n",
        "# Measuring the time taken by the model to train\n",
        "StartTime=time.time()\n",
        "\n",
        "# Starting the model training\n",
        "classifier.fit_generator(\n",
        "                    training_set,\n",
        "                    steps_per_epoch=len(training_set),\n",
        "                    epochs=10,\n",
        "                    validation_data=test_set,\n",
        "                    validation_steps=len(test_set))\n",
        "\n",
        "EndTime=time.time()\n",
        "print(\"###### Total Time Taken: \", round((EndTime-StartTime)/60), 'Minutes ######')"
      ],
      "metadata": {
        "colab": {
          "base_uri": "https://localhost:8080/"
        },
        "id": "bcRZAJjTYI5r",
        "outputId": "24650d91-033c-4ead-e055-78c877b4d41c"
      },
      "execution_count": 118,
      "outputs": [
        {
          "output_type": "stream",
          "name": "stderr",
          "text": [
            "/usr/local/lib/python3.7/dist-packages/ipykernel_launcher.py:11: UserWarning: `Model.fit_generator` is deprecated and will be removed in a future version. Please use `Model.fit`, which supports generators.\n",
            "  # This is added back by InteractiveShellApp.init_path()\n"
          ]
        },
        {
          "output_type": "stream",
          "name": "stdout",
          "text": [
            "Epoch 1/10\n",
            "8/8 [==============================] - 6s 648ms/step - loss: 91.0523 - accuracy: 0.0574 - val_loss: 3.2933 - val_accuracy: 0.0492\n",
            "Epoch 2/10\n",
            "8/8 [==============================] - 5s 614ms/step - loss: 2.7007 - accuracy: 0.1352 - val_loss: 2.3575 - val_accuracy: 0.2172\n",
            "Epoch 3/10\n",
            "8/8 [==============================] - 5s 621ms/step - loss: 2.1506 - accuracy: 0.3320 - val_loss: 1.7406 - val_accuracy: 0.4754\n",
            "Epoch 4/10\n",
            "8/8 [==============================] - 5s 595ms/step - loss: 1.7019 - accuracy: 0.4754 - val_loss: 1.2184 - val_accuracy: 0.7172\n",
            "Epoch 5/10\n",
            "8/8 [==============================] - 5s 596ms/step - loss: 0.9996 - accuracy: 0.7295 - val_loss: 0.5375 - val_accuracy: 0.8607\n",
            "Epoch 6/10\n",
            "8/8 [==============================] - 5s 603ms/step - loss: 0.5959 - accuracy: 0.8279 - val_loss: 0.4643 - val_accuracy: 0.8566\n",
            "Epoch 7/10\n",
            "8/8 [==============================] - 5s 594ms/step - loss: 0.3698 - accuracy: 0.8934 - val_loss: 0.1474 - val_accuracy: 0.9836\n",
            "Epoch 8/10\n",
            "8/8 [==============================] - 5s 607ms/step - loss: 0.2246 - accuracy: 0.9180 - val_loss: 0.0488 - val_accuracy: 0.9959\n",
            "Epoch 9/10\n",
            "8/8 [==============================] - 5s 604ms/step - loss: 0.1503 - accuracy: 0.9631 - val_loss: 0.0299 - val_accuracy: 0.9959\n",
            "Epoch 10/10\n",
            "8/8 [==============================] - 5s 631ms/step - loss: 0.0605 - accuracy: 0.9918 - val_loss: 0.0137 - val_accuracy: 1.0000\n",
            "###### Total Time Taken:  1 Minutes ######\n"
          ]
        }
      ]
    },
    {
      "cell_type": "code",
      "source": [
        "ImagePath='/content/drive/MyDrive/Face Images/Final Testing Images/face2/1face2.jpg'\n",
        "test_image=image.load_img(ImagePath,target_size=(64, 64))\n",
        "test_image=image.img_to_array(test_image)\n",
        "test_image=np.expand_dims(test_image,axis=0)\n",
        "result=classifier.predict(test_image,verbose=0)\n",
        "print('####'*10)\n",
        "print('Prediction is: ',ResultMap[np.argmax(result)])"
      ],
      "metadata": {
        "colab": {
          "base_uri": "https://localhost:8080/"
        },
        "id": "8g7YAyaecLxV",
        "outputId": "e945e803-08d6-4131-d027-22a3e68bf32c"
      },
      "execution_count": 119,
      "outputs": [
        {
          "output_type": "stream",
          "name": "stdout",
          "text": [
            "########################################\n",
            "Prediction is:  face2\n"
          ]
        }
      ]
    },
    {
      "cell_type": "code",
      "source": [
        ""
      ],
      "metadata": {
        "id": "6vdy2mgQch6F"
      },
      "execution_count": null,
      "outputs": []
    }
  ]
}